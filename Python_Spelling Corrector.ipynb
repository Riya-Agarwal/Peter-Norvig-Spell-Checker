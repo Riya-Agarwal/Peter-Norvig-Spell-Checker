{
 "cells": [
  {
   "cell_type": "markdown",
   "metadata": {},
   "source": [
    "# Peter Norvig's Spell Checker"
   ]
  },
  {
   "cell_type": "markdown",
   "metadata": {},
   "source": [
    "I came across Peter Norvig’s blog : How to Write a Spelling Corrector. In this post, I have redone the code with minor changes to understand for my own knowledge. \n",
    "\n",
    "Let's get started!"
   ]
  },
  {
   "cell_type": "markdown",
   "metadata": {},
   "source": [
    "We can estimate the probability of a word, P(word), by counting the number of times each word appears in a text file of about a million words, big.txt. \n",
    "\n",
    "Big.txt is a concatenation of public domain book excerpts from Project Gutenberg and lists of most frequent words from Wiktionary and the British National Corpus. "
   ]
  },
  {
   "cell_type": "code",
   "execution_count": null,
   "metadata": {
    "collapsed": true
   },
   "outputs": [],
   "source": [
    "import re\n",
    "from collections import Counter\n",
    "\n",
    "\n",
    "#The function words breaks text into words\n",
    "def words(text): return re.findall(r'\\w+', text.lower())\n",
    "\n",
    "# Variable WORDS holds a Count of how often each word appears in the text file\n",
    "WORDS = Counter(words(open('big.txt').read()))\n",
    "\n",
    "# P estimates the probability of each word, based on the Counter:\n",
    "def P(word, N=sum(WORDS.values())): \n",
    "    return WORDS[word] / N\n",
    "\n",
    "\n",
    "# Get the most probable spelling correction for the word:\n",
    "def correction(word): \n",
    "    return max(candidates(word), key=P)\n",
    "\n",
    "\n",
    "# Generate possible spelling corrections for the word:\n",
    "def candidates(word): \n",
    "    return (known([word]) or known(edits1(word)) or known(edits2(word)) or [word])\n",
    "\n",
    "\n",
    "# We restrict ourselves to words that are known—that is, in the dictionary for a smaller set to work with.\n",
    "# The subset of words that appear in the dictionary of WORDS:\n",
    "def known(words): \n",
    "    return set(w for w in words if w in WORDS)\n",
    "\n",
    "\n",
    "#Returns a set of all the edited strings (whether words or not) that can be made with one simple edit:\n",
    "def edits1(word):\n",
    "  \n",
    "    letters    = 'abcdefghijklmnopqrstuvwxyz'\n",
    "    \n",
    "    #Split the word in all possible combinations:\n",
    "    splits     = [(word[:i], word[i:])    for i in range(len(word) + 1)]\n",
    "    \n",
    "    #Remove one character:\n",
    "    deletes    = [L + R[1:]               for L, R in splits if R]\n",
    "    \n",
    "    #Swap two adjacent letters:\n",
    "    transposes = [L + R[1] + R[0] + R[2:] for L, R in splits if len(R)>1]\n",
    "    \n",
    "    #Change one letter to another:\n",
    "    replaces   = [L + c + R[1:]           for L, R in splits if R for c in letters]\n",
    "    \n",
    "    #Add a letter:\n",
    "    inserts    = [L + c + R               for L, R in splits for c in letters]\n",
    "    return set(deletes + transposes + replaces + inserts)\n",
    "\n",
    "\n",
    "\n",
    "#Returns a set of all the edited strings (whether words or not) that can be made with two simple edits:  \n",
    "def edits2(word): \n",
    "    return (e2 for e1 in edits1(word) for e2 in edits1(e1))"
   ]
  },
  {
   "cell_type": "code",
   "execution_count": 21,
   "metadata": {},
   "outputs": [
    {
     "data": {
      "text/plain": [
       "'arranged'"
      ]
     },
     "execution_count": 21,
     "metadata": {},
     "output_type": "execute_result"
    }
   ],
   "source": [
    "# Test it out\n",
    "correction('arrainged')"
   ]
  },
  {
   "cell_type": "code",
   "execution_count": 22,
   "metadata": {},
   "outputs": [
    {
     "data": {
      "text/plain": [
       "'poetry'"
      ]
     },
     "execution_count": 22,
     "metadata": {},
     "output_type": "execute_result"
    }
   ],
   "source": [
    "correction('peotry')"
   ]
  },
  {
   "cell_type": "code",
   "execution_count": 23,
   "metadata": {},
   "outputs": [
    {
     "data": {
      "text/plain": [
       "'quintessential'"
      ]
     },
     "execution_count": 23,
     "metadata": {},
     "output_type": "execute_result"
    }
   ],
   "source": [
    "correction('quintessential')"
   ]
  },
  {
   "cell_type": "code",
   "execution_count": 24,
   "metadata": {},
   "outputs": [
    {
     "data": {
      "text/plain": [
       "'corrected'"
      ]
     },
     "execution_count": 24,
     "metadata": {},
     "output_type": "execute_result"
    }
   ],
   "source": [
    "correction('korrectud')"
   ]
  }
 ],
 "metadata": {
  "kernelspec": {
   "display_name": "Python 3",
   "language": "python",
   "name": "python3"
  },
  "language_info": {
   "codemirror_mode": {
    "name": "ipython",
    "version": 3
   },
   "file_extension": ".py",
   "mimetype": "text/x-python",
   "name": "python",
   "nbconvert_exporter": "python",
   "pygments_lexer": "ipython3",
   "version": "3.6.2"
  }
 },
 "nbformat": 4,
 "nbformat_minor": 2
}
